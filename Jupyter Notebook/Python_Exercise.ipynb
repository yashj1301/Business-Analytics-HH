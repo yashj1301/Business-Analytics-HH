{
 "cells": [
  {
   "cell_type": "code",
   "execution_count": 8,
   "metadata": {},
   "outputs": [
    {
     "name": "stdout",
     "output_type": "stream",
     "text": [
      "10\n"
     ]
    }
   ],
   "source": [
    "#Exercise 1\n",
    "def max(a,b):\n",
    "    if a> b: return a\n",
    "    else : return b\n",
    "print(max(7,10))    "
   ]
  },
  {
   "cell_type": "code",
   "execution_count": 11,
   "metadata": {},
   "outputs": [
    {
     "name": "stdout",
     "output_type": "stream",
     "text": [
      "9\n"
     ]
    }
   ],
   "source": [
    "#Exercise 2\n",
    "def max_three(a,b,c):\n",
    "    if (a>b & a>c): return a\n",
    "    elif (b>a & b>c): return b\n",
    "    else : return c\n",
    "print(max_three(2,7,9))"
   ]
  },
  {
   "cell_type": "code",
   "execution_count": 17,
   "metadata": {},
   "outputs": [
    {
     "name": "stdout",
     "output_type": "stream",
     "text": [
      "4\n"
     ]
    }
   ],
   "source": [
    "#Exercise 3\n",
    "def str_len(str):\n",
    "    count = 0\n",
    "    for i in str: count+=1\n",
    "    return count\n",
    "print(str_len('Yash'))        "
   ]
  },
  {
   "cell_type": "code",
   "execution_count": 19,
   "metadata": {},
   "outputs": [
    {
     "name": "stdout",
     "output_type": "stream",
     "text": [
      "False\n"
     ]
    }
   ],
   "source": [
    "#Exercise 4\n",
    "vowels=['a','e','i','o','u']\n",
    "def not_vowel(char):\n",
    "    for i in vowels:\n",
    "        if char in vowels: return True\n",
    "        else : return False\n",
    "        \n",
    "print(not_vowel('c'))        "
   ]
  },
  {
   "cell_type": "code",
   "execution_count": 30,
   "metadata": {},
   "outputs": [
    {
     "name": "stdout",
     "output_type": "stream",
     "text": [
      "YoYasoshoh\n"
     ]
    }
   ],
   "source": [
    "#Exercise 5\n",
    "vowels=['a','e','i','o','u']\n",
    "def translate(text):\n",
    "    result=''\n",
    "    for i in text:\n",
    "        if i.lower() not in vowels: result+=i+'o'+i\n",
    "        else : result+=i\n",
    "    return result    \n",
    "    \n",
    "print(translate('Yash'))  "
   ]
  },
  {
   "cell_type": "code",
   "execution_count": 46,
   "metadata": {},
   "outputs": [
    {
     "name": "stdout",
     "output_type": "stream",
     "text": [
      "9\n",
      "24\n"
     ]
    }
   ],
   "source": [
    "#Exercise 6\n",
    "def sum(number):\n",
    "    sum=0\n",
    "    for i in number: sum+=i\n",
    "    return sum\n",
    "def product(number):\n",
    "    product=1\n",
    "    for i in number: product*=i\n",
    "    return product    \n",
    "print(sum([2,3,4]))\n",
    "print(product([2,3,4]))"
   ]
  },
  {
   "cell_type": "code",
   "execution_count": 90,
   "metadata": {},
   "outputs": [
    {
     "name": "stdout",
     "output_type": "stream",
     "text": [
      "4\n",
      "radar"
     ]
    }
   ],
   "source": [
    "#Exercise 7\n",
    "def reverse(str):\n",
    "    size=len(str)-1\n",
    "    for i in range(size,-1,-1): print(str[i],end='')\n",
    "\n",
    "reverse('radar')"
   ]
  },
  {
   "cell_type": "code",
   "execution_count": 149,
   "metadata": {},
   "outputs": [
    {
     "name": "stdout",
     "output_type": "stream",
     "text": [
      "3\n",
      "hsay"
     ]
    },
    {
     "data": {
      "text/plain": [
       "False"
      ]
     },
     "execution_count": 149,
     "metadata": {},
     "output_type": "execute_result"
    }
   ],
   "source": [
    "#Exercise 8\n",
    "def palindrome(str):\n",
    "    return str==reverse(str) \n",
    "    \n",
    "palindrome('yash')    "
   ]
  },
  {
   "cell_type": "code",
   "execution_count": 141,
   "metadata": {},
   "outputs": [
    {
     "name": "stdout",
     "output_type": "stream",
     "text": [
      "False\n"
     ]
    },
    {
     "data": {
      "text/plain": [
       "True"
      ]
     },
     "execution_count": 141,
     "metadata": {},
     "output_type": "execute_result"
    }
   ],
   "source": [
    "#Exercise 9 \n",
    "def check(ele,list):\n",
    "    for i in list:\n",
    "        if ele in list:return True\n",
    "    return False\n",
    "        \n",
    "y=check(11,[5,7,3,9,3])\n",
    "print(y)\n",
    "check('panda', ['lion', 'zebra', 'elephant', 'panda'])"
   ]
  },
  {
   "cell_type": "code",
   "execution_count": 152,
   "metadata": {},
   "outputs": [
    {
     "data": {
      "text/plain": [
       "True"
      ]
     },
     "execution_count": 152,
     "metadata": {},
     "output_type": "execute_result"
    }
   ],
   "source": [
    "#Exercise 10\n",
    "def overlapping(list1,list2):\n",
    "    for i in list1:\n",
    "        for j in list2:\n",
    "            if i in list2 or j in list1:return True\n",
    "    return False    \n",
    "            \n",
    "overlapping([1,2,3,4,5],[8,6,7,5,9])"
   ]
  }
 ],
 "metadata": {
  "kernelspec": {
   "display_name": "Python 3",
   "language": "python",
   "name": "python3"
  },
  "language_info": {
   "codemirror_mode": {
    "name": "ipython",
    "version": 3
   },
   "file_extension": ".py",
   "mimetype": "text/x-python",
   "name": "python",
   "nbconvert_exporter": "python",
   "pygments_lexer": "ipython3",
   "version": "3.7.3"
  }
 },
 "nbformat": 4,
 "nbformat_minor": 2
}
